{
 "cells": [
  {
   "cell_type": "code",
   "execution_count": 2,
   "metadata": {},
   "outputs": [],
   "source": [
    "## Tagging entities with <e1> and <e2> tags to prepare for BERT input"
   ]
  },
  {
   "cell_type": "code",
   "execution_count": 1,
   "metadata": {},
   "outputs": [],
   "source": [
    "import pandas as pd\n",
    "import numpy as np\n",
    "import json\n",
    "import pickle"
   ]
  },
  {
   "cell_type": "code",
   "execution_count": 2,
   "metadata": {},
   "outputs": [],
   "source": [
    "def change_entities_chem(sentence, diff_chem_1, diff_chem_2, diff_pro_1, diff_pro_2):\n",
    "    \n",
    "    first_part = sentence[:diff_chem_1] + ' <e1> ' + sentence[diff_chem_1:diff_chem_2] + ' </e1> ' + sentence[diff_chem_2:diff_pro_1]\n",
    "    last_part = ' <e2> ' + sentence[diff_pro_1 :diff_pro_2] + ' </e2> ' + sentence[diff_pro_2:]\n",
    "    \n",
    "    return first_part + last_part\n",
    "\n",
    "\n",
    "def change_entities_pro(sentence, diff_chem_1, diff_chem_2, diff_pro_1, diff_pro_2):\n",
    "    \n",
    "    first_part = sentence[:diff_chem_1] + ' <e2> ' + sentence[diff_chem_1:diff_chem_2] + ' </e2> ' + sentence[diff_chem_2:diff_pro_1]\n",
    "    last_part = ' <e1> ' + sentence[diff_pro_1 :diff_pro_2] + ' </e1> ' + sentence[diff_pro_2:]\n",
    "    \n",
    "    return first_part + last_part\n",
    "\n",
    "\n",
    "def change_entities_nested(sentence, diff_chem_1, diff_chem_2, diff_pro_1, diff_pro_2):\n",
    "    \n",
    "    if diff_chem_2 < diff_pro_2:\n",
    "        first_part = sentence[:diff_chem_1] + ' <e1> <e2> ' + sentence[diff_chem_1:diff_chem_2] + ' </e1> ' + sentence[diff_chem_2 :diff_pro_2 ] + ' </e2> ' + sentence[diff_pro_2:] \n",
    "        \n",
    "    else:    \n",
    "        first_part = sentence[:diff_pro_1] + ' <e2> <e1> ' + sentence[diff_pro_1:diff_pro_2] + ' </e2> ' + sentence[diff_pro_2:diff_chem_2] + ' </e1> ' + sentence[diff_chem_2:] \n",
    "        \n",
    "    return first_part "
   ]
  },
  {
   "cell_type": "code",
   "execution_count": 3,
   "metadata": {},
   "outputs": [],
   "source": [
    "def add_tags(file = \"../Data/Abstract_Entities/pairs.json\"):\n",
    "    df_sentences = pd.read_json(file)\n",
    "        \n",
    "    df_sentences.loc[df_sentences['e1_start'] <  df_sentences['e2_start'], 'changed_sent'] = df_sentences[['e1_start', 'e1_end', 'e2_start', 'e2_end', 'sentence']].apply(lambda x: change_entities_chem(x.sentence, x.e1_start, x.e1_end, x.e2_start, x.e2_end), axis=1)\n",
    "    df_sentences.loc[df_sentences['e1_start'] >  df_sentences['e2_start'], 'changed_sent'] = df_sentences[['e1_start', 'e1_end', 'e2_start', 'e2_end', 'sentence']].apply(lambda x: change_entities_pro(x.sentence, x.e2_start, x.e2_end, x.e1_start, x.e1_end), axis=1)\n",
    "    df_sentences.loc[df_sentences['e1_start'] ==  df_sentences['e2_start'], 'changed_sent'] = df_sentences[['e1_start', 'e1_end', 'e2_start', 'e2_end', 'sentence']].apply(lambda x: change_entities_nested(x.sentence, x.e1_start, x.e1_end, x.e2_start, x.e2_end), axis=1)\n",
    "    \n",
    "\n",
    "    return df_sentences"
   ]
  },
  {
   "cell_type": "code",
   "execution_count": 4,
   "metadata": {},
   "outputs": [],
   "source": [
    "df = add_tags()"
   ]
  },
  {
   "cell_type": "code",
   "execution_count": 10,
   "metadata": {},
   "outputs": [
    {
     "name": "stdout",
     "output_type": "stream",
     "text": [
      "2.3 Blood routine: white blood cells, neutrophils, lymphocytes, monocytes, eosinophils, basophils, neutrophils, lymphocytes, monocytes, eosinophils Acidic granulocyte count, basophil count, red blood cell, hemoglobin, hematocrit, average volume of red blood cells, average red blood cell Hb content, average red blood cell Hb concentration, RDW standard deviation, RDW coefficient of variation, platelet count, platelet specific platelet average Volume, platelet distribution width,% of large platelets; 2.4 Liver and kidney function tests: alanine aminotransferase, aspartate aminotransferase, alkaline phosphatase, Î³-glutamyl transferase, prealbumin, total protein, albumin, globulin, white / globule ratio , Total bilirubin, direct bilirubin, cholinesterase, urea, creatinine, total carbon dioxide, uric acid glucose, potassium, sodium, chlorine, calcium, corrected calcium, magnesium, phosphorus, calcium and phosphorus product, anion gap, penetration Pressure, total cholesterol, triacylglycerol, high density lipoprotein cholesterol, Low density lipoprotein cholesterol, lipoprotein a, creatine kinase, lactate dehydrogenase, estimated glomerular filtration rate.\n",
      "bilirubin\n",
      "density lipoprotein cholesterol\n",
      "2.3 Blood routine: white blood cells, neutrophils, lymphocytes, monocytes, eosinophils, basophils, neutrophils, lymphocytes, monocytes, eosinophils Acidic granulocyte count, basophil count, red blood cell, hemoglobin, hematocrit, average volume of red blood cells, average red blood cell Hb content, average red blood cell Hb concentration, RDW standard deviation, RDW coefficient of variation, platelet count, platelet specific platelet average Volume, platelet distribution width,% of large platelets; 2.4 Liver and kidney function tests: alanine aminotransferase, aspartate aminotransferase, alkaline phosphatase, Î³-glutamyl transferase, prealbumin, total protein, albumin, globulin, white / globule ratio , Total bilirubin, direct  <e1> bilirubin </e1> , cholinesterase, urea, creatinine, total carbon dioxide, uric acid glucose, potassium, sodium, chlorine, calcium, corrected calcium, magnesium, phosphorus, calcium and phosphorus product, anion gap, penetration Pressure, total cholesterol, triacylglycerol, high  <e2> density lipoprotein cholesterol </e2> , Low density lipoprotein cholesterol, lipoprotein a, creatine kinase, lactate dehydrogenase, estimated glomerular filtration rate.\n"
     ]
    }
   ],
   "source": [
    "import random\n",
    "idx = random.randint(0, len(df))\n",
    "print(df.iloc[idx][\"sentence\"])\n",
    "print(df.iloc[idx][\"e1\"])\n",
    "print(df.iloc[idx][\"e2\"])\n",
    "print(df.iloc[idx][\"changed_sent\"])"
   ]
  },
  {
   "cell_type": "code",
   "execution_count": null,
   "metadata": {},
   "outputs": [],
   "source": []
  },
  {
   "cell_type": "code",
   "execution_count": 11,
   "metadata": {},
   "outputs": [],
   "source": [
    "df.to_json(\"../Data/Abstract_Entities/pairs_tagger.json\")"
   ]
  },
  {
   "cell_type": "code",
   "execution_count": null,
   "metadata": {},
   "outputs": [],
   "source": []
  }
 ],
 "metadata": {
  "kernelspec": {
   "display_name": "Python 3",
   "language": "python",
   "name": "python3"
  },
  "language_info": {
   "codemirror_mode": {
    "name": "ipython",
    "version": 3
   },
   "file_extension": ".py",
   "mimetype": "text/x-python",
   "name": "python",
   "nbconvert_exporter": "python",
   "pygments_lexer": "ipython3",
   "version": "3.7.4"
  }
 },
 "nbformat": 4,
 "nbformat_minor": 4
}
