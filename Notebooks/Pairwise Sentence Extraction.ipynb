{
 "cells": [
  {
   "cell_type": "code",
   "execution_count": 2,
   "metadata": {},
   "outputs": [],
   "source": [
    "## Prepare output of BERN (named entity recognition and normalizer) to use it in binary relation extraction"
   ]
  },
  {
   "cell_type": "code",
   "execution_count": 2,
   "metadata": {},
   "outputs": [],
   "source": [
    "import os\n",
    "import pandas as pd\n",
    "import json\n",
    "from tqdm.notebook import tqdm\n",
    "from collections import defaultdict\n",
    "import random"
   ]
  },
  {
   "cell_type": "code",
   "execution_count": 8,
   "metadata": {},
   "outputs": [],
   "source": [
    "norm_path = \"../Data/Abstract_Normalized/\"\n",
    "norm_files = os.listdir(\"../Data/Abstract_Normalized/\")"
   ]
  },
  {
   "cell_type": "code",
   "execution_count": 6,
   "metadata": {},
   "outputs": [],
   "source": [
    "with open(\"../Data/Abstract_Splitted/total.json\", \"r\") as f:\n",
    "    sentences = json.load(f)"
   ]
  },
  {
   "cell_type": "code",
   "execution_count": 9,
   "metadata": {},
   "outputs": [],
   "source": [
    "norm_ids = [x[:x.index(\".json\")] for x in norm_files]"
   ]
  },
  {
   "cell_type": "code",
   "execution_count": null,
   "metadata": {},
   "outputs": [],
   "source": []
  },
  {
   "cell_type": "code",
   "execution_count": 10,
   "metadata": {},
   "outputs": [
    {
     "data": {
      "application/vnd.jupyter.widget-view+json": {
       "model_id": "dd20a6460f0a4db79ce4345cef3ed374",
       "version_major": 2,
       "version_minor": 0
      },
      "text/plain": [
       "HBox(children=(FloatProgress(value=0.0, max=74727.0), HTML(value='')))"
      ]
     },
     "metadata": {},
     "output_type": "display_data"
    },
    {
     "name": "stdout",
     "output_type": "stream",
     "text": [
      "\n"
     ]
    }
   ],
   "source": [
    "all_entities = []\n",
    "for doc_id in tqdm(norm_ids):\n",
    "    with open(os.path.join(norm_path, doc_id+\".json\"), \"r\") as f:\n",
    "        norm = json.load(f)\n",
    "    for sent_id, el in enumerate(norm):\n",
    "        if not el:\n",
    "            continue\n",
    "        for ent_type in el[\"logits\"]:\n",
    "            for res in el[\"logits\"][ent_type]:\n",
    "                feat_dict = res[0]\n",
    "                feat_dict[\"text\"] = el[\"text\"][feat_dict[\"start\"]:feat_dict[\"end\"]:]\n",
    "                feat_dict[\"confidence\"] = res[-1]\n",
    "                feat_dict[\"type\"] = ent_type\n",
    "                feat_dict[\"doc_id\"] = doc_id\n",
    "                feat_dict[\"sent_id\"] = sent_id\n",
    "                all_entities.append(feat_dict)\n",
    "    #             print(feat_dict)\n",
    "    #             print(sentences[doc_id][sent_id])\n",
    "    #             print(\"*\"*50)"
   ]
  },
  {
   "cell_type": "code",
   "execution_count": 11,
   "metadata": {},
   "outputs": [
    {
     "name": "stdout",
     "output_type": "stream",
     "text": [
      "727460\n"
     ]
    }
   ],
   "source": [
    "print(len(all_entities))"
   ]
  },
  {
   "cell_type": "markdown",
   "metadata": {},
   "source": [
    "## Save All Entities"
   ]
  },
  {
   "cell_type": "code",
   "execution_count": 15,
   "metadata": {},
   "outputs": [],
   "source": [
    "df = pd.DataFrame(all_entities)"
   ]
  },
  {
   "cell_type": "code",
   "execution_count": 16,
   "metadata": {},
   "outputs": [
    {
     "data": {
      "text/plain": [
       "{'disease', 'drug', 'gene', 'species'}"
      ]
     },
     "execution_count": 16,
     "metadata": {},
     "output_type": "execute_result"
    }
   ],
   "source": [
    "set(list(df[\"type\"]))"
   ]
  },
  {
   "cell_type": "code",
   "execution_count": 18,
   "metadata": {},
   "outputs": [],
   "source": [
    "df.to_json(\"../Data/Abstract_Entities/entities.json\")"
   ]
  },
  {
   "cell_type": "markdown",
   "metadata": {},
   "source": [
    "## Finding Pairs"
   ]
  },
  {
   "cell_type": "code",
   "execution_count": 20,
   "metadata": {},
   "outputs": [
    {
     "data": {
      "application/vnd.jupyter.widget-view+json": {
       "model_id": "bc429174a24047e1a8968b09970bd460",
       "version_major": 2,
       "version_minor": 0
      },
      "text/plain": [
       "HBox(children=(FloatProgress(value=0.0, max=74727.0), HTML(value='')))"
      ]
     },
     "metadata": {},
     "output_type": "display_data"
    },
    {
     "name": "stdout",
     "output_type": "stream",
     "text": [
      "\n"
     ]
    }
   ],
   "source": [
    "all_pairs = []\n",
    "for doc_id in tqdm(norm_ids):\n",
    "    with open(os.path.join(norm_path, doc_id+\".json\"), \"r\") as f:\n",
    "        norm = json.load(f)\n",
    "    for sent_id, el in enumerate(norm):\n",
    "        if not el:\n",
    "            continue\n",
    "        temp = []\n",
    "        for ent_type in el[\"logits\"]:\n",
    "            for res in el[\"logits\"][ent_type]:\n",
    "                feat_dict = res[0]\n",
    "                feat_dict[\"text\"] = el[\"text\"][feat_dict[\"start\"]:feat_dict[\"end\"]:]\n",
    "                feat_dict[\"confidence\"] = res[-1]\n",
    "                feat_dict[\"type\"] = ent_type\n",
    "                feat_dict[\"doc_id\"] = doc_id\n",
    "                feat_dict[\"sent_id\"] = sent_id\n",
    "                temp.append(feat_dict)\n",
    "        for id1, t1 in enumerate(temp):\n",
    "            for id2, t2 in enumerate(temp):\n",
    "                if id1<=id2:\n",
    "                    continue\n",
    "                pair = {}\n",
    "                pair[\"sentence\"] = sentences[doc_id][sent_id]\n",
    "                pair[\"e1\"] = t1[\"text\"]\n",
    "                pair[\"e2\"] = t2[\"text\"]\n",
    "                pair[\"e1_type\"] = t1[\"type\"]\n",
    "                pair[\"e2_type\"] = t2[\"type\"]\n",
    "                pair[\"e1_id\"] = t1[\"id\"] if \"id\" in t1 else \"None\"\n",
    "                pair[\"e2_id\"] = t2[\"id\"] if \"id\" in t2 else \"None\"\n",
    "                pair[\"e1_start\"] = t1[\"start\"]\n",
    "                pair[\"e1_end\"] = t1[\"end\"]\n",
    "                pair[\"e2_start\"] = t2[\"start\"]\n",
    "                pair[\"e2_end\"] = t2[\"end\"]\n",
    "\n",
    "                \n",
    "                pair[\"doc_id\"] = doc_id\n",
    "                pair[\"sent_id\"] = sent_id\n",
    "                all_pairs.append(pair)"
   ]
  },
  {
   "cell_type": "code",
   "execution_count": 21,
   "metadata": {},
   "outputs": [
    {
     "data": {
      "text/html": [
       "<div>\n",
       "<style scoped>\n",
       "    .dataframe tbody tr th:only-of-type {\n",
       "        vertical-align: middle;\n",
       "    }\n",
       "\n",
       "    .dataframe tbody tr th {\n",
       "        vertical-align: top;\n",
       "    }\n",
       "\n",
       "    .dataframe thead th {\n",
       "        text-align: right;\n",
       "    }\n",
       "</style>\n",
       "<table border=\"1\" class=\"dataframe\">\n",
       "  <thead>\n",
       "    <tr style=\"text-align: right;\">\n",
       "      <th></th>\n",
       "      <th>sentence</th>\n",
       "      <th>e1</th>\n",
       "      <th>e2</th>\n",
       "      <th>e1_type</th>\n",
       "      <th>e2_type</th>\n",
       "      <th>e1_id</th>\n",
       "      <th>e2_id</th>\n",
       "      <th>e1_start</th>\n",
       "      <th>e1_end</th>\n",
       "      <th>e2_start</th>\n",
       "      <th>e2_end</th>\n",
       "      <th>doc_id</th>\n",
       "      <th>sent_id</th>\n",
       "    </tr>\n",
       "  </thead>\n",
       "  <tbody>\n",
       "    <tr>\n",
       "      <th>0</th>\n",
       "      <td>Rubella virus (RV) genomic RNA contains two la...</td>\n",
       "      <td>NSPs</td>\n",
       "      <td>Rubella</td>\n",
       "      <td>gene</td>\n",
       "      <td>disease</td>\n",
       "      <td>CUI-less</td>\n",
       "      <td>MESH:D012409\\tBERN:106907501</td>\n",
       "      <td>129</td>\n",
       "      <td>133</td>\n",
       "      <td>0</td>\n",
       "      <td>7</td>\n",
       "      <td>05185a9f8f03e3f557765009111155e015a2aa9fa2a3e1...</td>\n",
       "      <td>0</td>\n",
       "    </tr>\n",
       "    <tr>\n",
       "      <th>1</th>\n",
       "      <td>Rubella virus (RV) genomic RNA contains two la...</td>\n",
       "      <td>Rubella virus</td>\n",
       "      <td>Rubella</td>\n",
       "      <td>species</td>\n",
       "      <td>disease</td>\n",
       "      <td>NCBI:txid11041</td>\n",
       "      <td>MESH:D012409\\tBERN:106907501</td>\n",
       "      <td>0</td>\n",
       "      <td>13</td>\n",
       "      <td>0</td>\n",
       "      <td>7</td>\n",
       "      <td>05185a9f8f03e3f557765009111155e015a2aa9fa2a3e1...</td>\n",
       "      <td>0</td>\n",
       "    </tr>\n",
       "    <tr>\n",
       "      <th>2</th>\n",
       "      <td>Rubella virus (RV) genomic RNA contains two la...</td>\n",
       "      <td>Rubella virus</td>\n",
       "      <td>NSPs</td>\n",
       "      <td>species</td>\n",
       "      <td>gene</td>\n",
       "      <td>NCBI:txid11041</td>\n",
       "      <td>CUI-less</td>\n",
       "      <td>0</td>\n",
       "      <td>13</td>\n",
       "      <td>129</td>\n",
       "      <td>133</td>\n",
       "      <td>05185a9f8f03e3f557765009111155e015a2aa9fa2a3e1...</td>\n",
       "      <td>0</td>\n",
       "    </tr>\n",
       "    <tr>\n",
       "      <th>3</th>\n",
       "      <td>Proteolytic processing of the RV NSP ORF trans...</td>\n",
       "      <td>p200</td>\n",
       "      <td>RV NSP ORF translation product</td>\n",
       "      <td>gene</td>\n",
       "      <td>gene</td>\n",
       "      <td>MIM:609539\\tHGNC:18037\\tEnsembl:ENSG0000018907...</td>\n",
       "      <td>CUI-less</td>\n",
       "      <td>61</td>\n",
       "      <td>65</td>\n",
       "      <td>30</td>\n",
       "      <td>60</td>\n",
       "      <td>05185a9f8f03e3f557765009111155e015a2aa9fa2a3e1...</td>\n",
       "      <td>1</td>\n",
       "    </tr>\n",
       "    <tr>\n",
       "      <th>4</th>\n",
       "      <td>Processing of p200 to two mature products (p15...</td>\n",
       "      <td>p150</td>\n",
       "      <td>p200</td>\n",
       "      <td>gene</td>\n",
       "      <td>gene</td>\n",
       "      <td>MIM:601246\\tHGNC:1910\\tEnsembl:ENSG00000167670...</td>\n",
       "      <td>MIM:609539\\tHGNC:18037\\tEnsembl:ENSG0000018907...</td>\n",
       "      <td>43</td>\n",
       "      <td>47</td>\n",
       "      <td>14</td>\n",
       "      <td>18</td>\n",
       "      <td>05185a9f8f03e3f557765009111155e015a2aa9fa2a3e1...</td>\n",
       "      <td>2</td>\n",
       "    </tr>\n",
       "    <tr>\n",
       "      <th>...</th>\n",
       "      <td>...</td>\n",
       "      <td>...</td>\n",
       "      <td>...</td>\n",
       "      <td>...</td>\n",
       "      <td>...</td>\n",
       "      <td>...</td>\n",
       "      <td>...</td>\n",
       "      <td>...</td>\n",
       "      <td>...</td>\n",
       "      <td>...</td>\n",
       "      <td>...</td>\n",
       "      <td>...</td>\n",
       "      <td>...</td>\n",
       "    </tr>\n",
       "    <tr>\n",
       "      <th>1115685</th>\n",
       "      <td>Prothrombin time was prolonged in 4 patients.</td>\n",
       "      <td>patient</td>\n",
       "      <td>Prothrombin</td>\n",
       "      <td>species</td>\n",
       "      <td>gene</td>\n",
       "      <td>None</td>\n",
       "      <td>MIM:176930\\tHGNC:3535\\tEnsembl:ENSG00000180210...</td>\n",
       "      <td>36</td>\n",
       "      <td>43</td>\n",
       "      <td>0</td>\n",
       "      <td>11</td>\n",
       "      <td>beba54a62be2847562966396efb334f9bf951d8632d55f...</td>\n",
       "      <td>8</td>\n",
       "    </tr>\n",
       "    <tr>\n",
       "      <th>1115686</th>\n",
       "      <td>Four patients were diagnosed with disseminated...</td>\n",
       "      <td>DIC</td>\n",
       "      <td>disseminated intravascular coagulation</td>\n",
       "      <td>disease</td>\n",
       "      <td>disease</td>\n",
       "      <td>MESH:D004211\\tBERN:107003001</td>\n",
       "      <td>MESH:D004211\\tBERN:107003001</td>\n",
       "      <td>74</td>\n",
       "      <td>77</td>\n",
       "      <td>34</td>\n",
       "      <td>72</td>\n",
       "      <td>beba54a62be2847562966396efb334f9bf951d8632d55f...</td>\n",
       "      <td>10</td>\n",
       "    </tr>\n",
       "    <tr>\n",
       "      <th>1115687</th>\n",
       "      <td>Four patients were diagnosed with disseminated...</td>\n",
       "      <td>patient</td>\n",
       "      <td>disseminated intravascular coagulation</td>\n",
       "      <td>species</td>\n",
       "      <td>disease</td>\n",
       "      <td>None</td>\n",
       "      <td>MESH:D004211\\tBERN:107003001</td>\n",
       "      <td>5</td>\n",
       "      <td>12</td>\n",
       "      <td>34</td>\n",
       "      <td>72</td>\n",
       "      <td>beba54a62be2847562966396efb334f9bf951d8632d55f...</td>\n",
       "      <td>10</td>\n",
       "    </tr>\n",
       "    <tr>\n",
       "      <th>1115688</th>\n",
       "      <td>Four patients were diagnosed with disseminated...</td>\n",
       "      <td>patient</td>\n",
       "      <td>DIC</td>\n",
       "      <td>species</td>\n",
       "      <td>disease</td>\n",
       "      <td>None</td>\n",
       "      <td>MESH:D004211\\tBERN:107003001</td>\n",
       "      <td>5</td>\n",
       "      <td>12</td>\n",
       "      <td>74</td>\n",
       "      <td>77</td>\n",
       "      <td>beba54a62be2847562966396efb334f9bf951d8632d55f...</td>\n",
       "      <td>10</td>\n",
       "    </tr>\n",
       "    <tr>\n",
       "      <th>1115689</th>\n",
       "      <td>Five patients died finally and the median time...</td>\n",
       "      <td>patient</td>\n",
       "      <td>acro-ischemia</td>\n",
       "      <td>species</td>\n",
       "      <td>disease</td>\n",
       "      <td>None</td>\n",
       "      <td>CUI-less</td>\n",
       "      <td>5</td>\n",
       "      <td>12</td>\n",
       "      <td>52</td>\n",
       "      <td>65</td>\n",
       "      <td>beba54a62be2847562966396efb334f9bf951d8632d55f...</td>\n",
       "      <td>12</td>\n",
       "    </tr>\n",
       "  </tbody>\n",
       "</table>\n",
       "<p>1115690 rows × 13 columns</p>\n",
       "</div>"
      ],
      "text/plain": [
       "                                                  sentence             e1  \\\n",
       "0        Rubella virus (RV) genomic RNA contains two la...           NSPs   \n",
       "1        Rubella virus (RV) genomic RNA contains two la...  Rubella virus   \n",
       "2        Rubella virus (RV) genomic RNA contains two la...  Rubella virus   \n",
       "3        Proteolytic processing of the RV NSP ORF trans...           p200   \n",
       "4        Processing of p200 to two mature products (p15...           p150   \n",
       "...                                                    ...            ...   \n",
       "1115685      Prothrombin time was prolonged in 4 patients.        patient   \n",
       "1115686  Four patients were diagnosed with disseminated...            DIC   \n",
       "1115687  Four patients were diagnosed with disseminated...        patient   \n",
       "1115688  Four patients were diagnosed with disseminated...        patient   \n",
       "1115689  Five patients died finally and the median time...        patient   \n",
       "\n",
       "                                             e2  e1_type  e2_type  \\\n",
       "0                                       Rubella     gene  disease   \n",
       "1                                       Rubella  species  disease   \n",
       "2                                          NSPs  species     gene   \n",
       "3                RV NSP ORF translation product     gene     gene   \n",
       "4                                          p200     gene     gene   \n",
       "...                                         ...      ...      ...   \n",
       "1115685                             Prothrombin  species     gene   \n",
       "1115686  disseminated intravascular coagulation  disease  disease   \n",
       "1115687  disseminated intravascular coagulation  species  disease   \n",
       "1115688                                     DIC  species  disease   \n",
       "1115689                           acro-ischemia  species  disease   \n",
       "\n",
       "                                                     e1_id  \\\n",
       "0                                                 CUI-less   \n",
       "1                                           NCBI:txid11041   \n",
       "2                                           NCBI:txid11041   \n",
       "3        MIM:609539\\tHGNC:18037\\tEnsembl:ENSG0000018907...   \n",
       "4        MIM:601246\\tHGNC:1910\\tEnsembl:ENSG00000167670...   \n",
       "...                                                    ...   \n",
       "1115685                                               None   \n",
       "1115686                       MESH:D004211\\tBERN:107003001   \n",
       "1115687                                               None   \n",
       "1115688                                               None   \n",
       "1115689                                               None   \n",
       "\n",
       "                                                     e2_id  e1_start  e1_end  \\\n",
       "0                             MESH:D012409\\tBERN:106907501       129     133   \n",
       "1                             MESH:D012409\\tBERN:106907501         0      13   \n",
       "2                                                 CUI-less         0      13   \n",
       "3                                                 CUI-less        61      65   \n",
       "4        MIM:609539\\tHGNC:18037\\tEnsembl:ENSG0000018907...        43      47   \n",
       "...                                                    ...       ...     ...   \n",
       "1115685  MIM:176930\\tHGNC:3535\\tEnsembl:ENSG00000180210...        36      43   \n",
       "1115686                       MESH:D004211\\tBERN:107003001        74      77   \n",
       "1115687                       MESH:D004211\\tBERN:107003001         5      12   \n",
       "1115688                       MESH:D004211\\tBERN:107003001         5      12   \n",
       "1115689                                           CUI-less         5      12   \n",
       "\n",
       "         e2_start  e2_end                                             doc_id  \\\n",
       "0               0       7  05185a9f8f03e3f557765009111155e015a2aa9fa2a3e1...   \n",
       "1               0       7  05185a9f8f03e3f557765009111155e015a2aa9fa2a3e1...   \n",
       "2             129     133  05185a9f8f03e3f557765009111155e015a2aa9fa2a3e1...   \n",
       "3              30      60  05185a9f8f03e3f557765009111155e015a2aa9fa2a3e1...   \n",
       "4              14      18  05185a9f8f03e3f557765009111155e015a2aa9fa2a3e1...   \n",
       "...           ...     ...                                                ...   \n",
       "1115685         0      11  beba54a62be2847562966396efb334f9bf951d8632d55f...   \n",
       "1115686        34      72  beba54a62be2847562966396efb334f9bf951d8632d55f...   \n",
       "1115687        34      72  beba54a62be2847562966396efb334f9bf951d8632d55f...   \n",
       "1115688        74      77  beba54a62be2847562966396efb334f9bf951d8632d55f...   \n",
       "1115689        52      65  beba54a62be2847562966396efb334f9bf951d8632d55f...   \n",
       "\n",
       "         sent_id  \n",
       "0              0  \n",
       "1              0  \n",
       "2              0  \n",
       "3              1  \n",
       "4              2  \n",
       "...          ...  \n",
       "1115685        8  \n",
       "1115686       10  \n",
       "1115687       10  \n",
       "1115688       10  \n",
       "1115689       12  \n",
       "\n",
       "[1115690 rows x 13 columns]"
      ]
     },
     "execution_count": 21,
     "metadata": {},
     "output_type": "execute_result"
    }
   ],
   "source": [
    "pd.DataFrame(all_pairs)"
   ]
  },
  {
   "cell_type": "code",
   "execution_count": 22,
   "metadata": {},
   "outputs": [
    {
     "data": {
      "text/plain": [
       "1115690"
      ]
     },
     "execution_count": 22,
     "metadata": {},
     "output_type": "execute_result"
    }
   ],
   "source": [
    "len(all_pairs)"
   ]
  },
  {
   "cell_type": "markdown",
   "metadata": {},
   "source": [
    "## Filtering for drug and genes"
   ]
  },
  {
   "cell_type": "code",
   "execution_count": 31,
   "metadata": {},
   "outputs": [],
   "source": [
    "dg_pairs = []\n",
    "unique_pairs = set()\n",
    "only_drug = True\n",
    "for p in all_pairs:\n",
    "    if  (p[\"e2_type\"]==\"drug\" and p[\"e1_type\"]==\"gene\"):\n",
    "        e1t = p[\"e2_type\"]\n",
    "        e1 = p[\"e2\"]\n",
    "        e1i = p[\"e2_id\"]\n",
    "        e1s = p[\"e2_start\"]\n",
    "        e1e = p[\"e2_end\"]\n",
    "        p[\"e2_type\"] = p[\"e1_type\"]\n",
    "        p[\"e2\"] = p[\"e1\"]\n",
    "        p[\"e2_id\"] = p[\"e1_id\"] if type(p[\"e1_id\"])!=list else p[\"e1_id\"][0]\n",
    "        p[\"e2_start\"] = p[\"e1_start\"]\n",
    "        p[\"e2_end\"] = p[\"e1_end\"]\n",
    "        \n",
    "        p[\"e1_type\"] = e1t\n",
    "        p[\"e1\"] = e1\n",
    "        p[\"e1_id\"] = e1i if type(e1i)!=list else e1i[0]\n",
    "        p[\"e1_start\"] = e1s\n",
    "        p[\"e1_end\"] = e1e\n",
    "        dg_pairs.append(p)\n",
    "        unique_pairs.add((p[\"e1_id\"], p[\"e2_id\"]))\n",
    "    elif (p[\"e1_type\"]==\"drug\" and p[\"e2_type\"]==\"gene\"):\n",
    "        p[\"e2_id\"] = p[\"e2_id\"] if type(p[\"e2_id\"])!=list else p[\"e2_id\"][0]\n",
    "        p[\"e1_id\"] = p[\"e1_id\"] if type(p[\"e1_id\"])!=list else p[\"e1_id\"][0]\n",
    "        dg_pairs.append(p)\n",
    "        unique_pairs.add((p[\"e2_id\"], p[\"e1_id\"]))"
   ]
  },
  {
   "cell_type": "code",
   "execution_count": 32,
   "metadata": {},
   "outputs": [],
   "source": [
    "dg_pairs_d = pd.DataFrame(dg_pairs)"
   ]
  },
  {
   "cell_type": "code",
   "execution_count": 33,
   "metadata": {},
   "outputs": [
    {
     "data": {
      "text/plain": [
       "46166"
      ]
     },
     "execution_count": 33,
     "metadata": {},
     "output_type": "execute_result"
    }
   ],
   "source": [
    "len(dg_pairs)"
   ]
  },
  {
   "cell_type": "code",
   "execution_count": 34,
   "metadata": {},
   "outputs": [],
   "source": [
    "dg_pairs_d.to_json(\"../Data/Abstract_Entities/pairs.json\")"
   ]
  },
  {
   "cell_type": "code",
   "execution_count": 39,
   "metadata": {},
   "outputs": [
    {
     "name": "stdout",
     "output_type": "stream",
     "text": [
      "26732\n",
      "Sentence:\n",
      "Deduced amino acid sequences for both HEV strains revealed 89/88, 80, 93/92 and 95/94% identities with the structural proteins HE, S, M and N of BCoV and HCoV-OC43, respectively.\n",
      "\n",
      "\n",
      "Entity 1: amino acid \t drug \t CHEBI:33704\tBERN:282227403\n",
      "Entity 2: HE \t gene \t CUI-less\n"
     ]
    }
   ],
   "source": [
    "idx = random.randint(0, len(dg_pairs))\n",
    "print(idx)\n",
    "print(\"Sentence:\")\n",
    "print(dg_pairs[idx][\"sentence\"])\n",
    "print(\"\\n\")\n",
    "print(\"Entity 1:\", dg_pairs[idx][\"e1\"], \"\\t\", dg_pairs[idx][\"e1_type\"], '\\t', dg_pairs[idx][\"e1_id\"])\n",
    "print(\"Entity 2:\", dg_pairs[idx][\"e2\"], \"\\t\", dg_pairs[idx][\"e2_type\"], '\\t', dg_pairs[idx][\"e2_id\"])"
   ]
  },
  {
   "cell_type": "code",
   "execution_count": null,
   "metadata": {},
   "outputs": [],
   "source": []
  }
 ],
 "metadata": {
  "kernelspec": {
   "display_name": "Python 3",
   "language": "python",
   "name": "python3"
  },
  "language_info": {
   "codemirror_mode": {
    "name": "ipython",
    "version": 3
   },
   "file_extension": ".py",
   "mimetype": "text/x-python",
   "name": "python",
   "nbconvert_exporter": "python",
   "pygments_lexer": "ipython3",
   "version": "3.7.4"
  }
 },
 "nbformat": 4,
 "nbformat_minor": 4
}
